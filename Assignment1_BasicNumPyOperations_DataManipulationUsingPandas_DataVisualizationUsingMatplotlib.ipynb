{
 "cells": [
  {
   "cell_type": "markdown",
   "id": "0289841f",
   "metadata": {},
   "source": [
    "# Performing basic operations on arrays using numpy"
   ]
  },
  {
   "cell_type": "markdown",
   "id": "fab6d7aa",
   "metadata": {},
   "source": [
    "Numpy is a general-purpose array-processing package. It provides a high-performance multidimensional array object, and tools for working with these arrays. It is the fundamental package for scientific computing with Python.\n",
    "Besides its obvious scientific uses, Numpy can also be used as an efficient multi-dimensional container of generic data."
   ]
  },
  {
   "cell_type": "code",
   "execution_count": 1,
   "id": "6cf98462",
   "metadata": {},
   "outputs": [],
   "source": [
    "#Importing NumPy\n",
    "import numpy as np"
   ]
  },
  {
   "cell_type": "markdown",
   "id": "9f763af1",
   "metadata": {},
   "source": [
    "Array in Numpy is a table of elements (usually numbers), all of the same type, indexed by a tuple of positive integers. In Numpy, number of dimensions of the array is called rank of the array.A tuple of integers giving the size of the array along each dimension is known as shape of the array. An array class in Numpy is called as ndarray. Elements in Numpy arrays are accessed by using square brackets and can be initialized by using nested Python Lists"
   ]
  },
  {
   "cell_type": "code",
   "execution_count": 3,
   "id": "b75eccf8",
   "metadata": {},
   "outputs": [
    {
     "name": "stdout",
     "output_type": "stream",
     "text": [
      "1D array :  [11 12 13 14 15 16]\n"
     ]
    }
   ],
   "source": [
    "#Creating a 1D array\n",
    "arr1=np.array([11,12,13,14,15,16])\n",
    "print(\"1D array : \",arr1)"
   ]
  },
  {
   "cell_type": "code",
   "execution_count": 5,
   "id": "2414cca8",
   "metadata": {},
   "outputs": [
    {
     "name": "stdout",
     "output_type": "stream",
     "text": [
      "2D array :  [[ 1  2  3  4  5]\n",
      " [ 6  7  8  9 10]]\n"
     ]
    }
   ],
   "source": [
    "#Creating a 2D array\n",
    "arr2=np.array([[1,2,3,4,5],[6,7,8,9,10]])\n",
    "print(\"2D array : \",arr2)"
   ]
  },
  {
   "cell_type": "code",
   "execution_count": 7,
   "id": "91f245e8",
   "metadata": {},
   "outputs": [
    {
     "name": "stdout",
     "output_type": "stream",
     "text": [
      "Addition of the two arrays\n",
      "\n",
      "Using + operator : \n",
      " [[33 35 37]\n",
      " [39 41 43]\n",
      " [45 47 49]]\n",
      "\n",
      "Using add function : \n",
      " [[33 35 37]\n",
      " [39 41 43]\n",
      " [45 47 49]]\n"
     ]
    }
   ],
   "source": [
    "#Defining two arrays\n",
    "\n",
    "a=np.array([[12,13,14],[15,16,17],[18,19,20]])\n",
    "b=np.array([[21,22,23],[24,25,26],[27,28,29]])\n",
    "\n",
    "#Addition\n",
    "result1=a+b\n",
    "print(\"Addition of the two arrays\")\n",
    "print(\"\\nUsing + operator : \\n\",result1)\n",
    "result2=np.add(a,b)\n",
    "print(\"\\nUsing add function : \\n\",result2)"
   ]
  },
  {
   "cell_type": "code",
   "execution_count": 9,
   "id": "ed8a6acc",
   "metadata": {},
   "outputs": [
    {
     "name": "stdout",
     "output_type": "stream",
     "text": [
      "Subtraction of the two arrays\n",
      "\n",
      "Using - operator : \n",
      " [[-9 -9 -9]\n",
      " [-9 -9 -9]\n",
      " [-9 -9 -9]]\n",
      "\n",
      "Using subtract function : \n",
      " [[-9 -9 -9]\n",
      " [-9 -9 -9]\n",
      " [-9 -9 -9]]\n"
     ]
    }
   ],
   "source": [
    "#Subtraction\n",
    "result1=a-b\n",
    "print(\"Subtraction of the two arrays\")\n",
    "print(\"\\nUsing - operator : \\n\",result1)\n",
    "result2=np.subtract(a,b)\n",
    "print(\"\\nUsing subtract function : \\n\",result2)"
   ]
  },
  {
   "cell_type": "code",
   "execution_count": 12,
   "id": "8ae2b781",
   "metadata": {},
   "outputs": [
    {
     "name": "stdout",
     "output_type": "stream",
     "text": [
      "Multiplication of the two arrays : \n",
      " [[252 286 322]\n",
      " [360 400 442]\n",
      " [486 532 580]]\n",
      "Division of the two arrays : \n",
      " [[0.57142857 0.59090909 0.60869565]\n",
      " [0.625      0.64       0.65384615]\n",
      " [0.66666667 0.67857143 0.68965517]]\n",
      "Using ** operator : \n",
      " [[144 169 196]\n",
      " [225 256 289]\n",
      " [324 361 400]]\n",
      "Using power function : \n",
      " [[144 169 196]\n",
      " [225 256 289]\n",
      " [324 361 400]]\n"
     ]
    }
   ],
   "source": [
    "#Element-Wise Multiplication\n",
    "result=np.multiply(a,b)\n",
    "print(\"Multiplication of the two arrays : \\n\",result)\n",
    "\n",
    "#Element-Wise Division\n",
    "result=np.divide(a,b)\n",
    "print(\"Division of the two arrays : \\n\",result)\n",
    "\n",
    "#Element-Wise Exponentiation of array \"a\" with 2\n",
    "result1= a ** 2\n",
    "print(\"Using ** operator : \\n\",result1)\n",
    "result=np.power(a,2)\n",
    "print(\"Using power function : \\n\",result)"
   ]
  },
  {
   "cell_type": "markdown",
   "id": "ed81831b",
   "metadata": {},
   "source": [
    "# Data Manipulation using Pandas"
   ]
  },
  {
   "cell_type": "code",
   "execution_count": 13,
   "id": "57512f34",
   "metadata": {},
   "outputs": [
    {
     "data": {
      "text/html": [
       "<div>\n",
       "<style scoped>\n",
       "    .dataframe tbody tr th:only-of-type {\n",
       "        vertical-align: middle;\n",
       "    }\n",
       "\n",
       "    .dataframe tbody tr th {\n",
       "        vertical-align: top;\n",
       "    }\n",
       "\n",
       "    .dataframe thead th {\n",
       "        text-align: right;\n",
       "    }\n",
       "</style>\n",
       "<table border=\"1\" class=\"dataframe\">\n",
       "  <thead>\n",
       "    <tr style=\"text-align: right;\">\n",
       "      <th></th>\n",
       "      <th>Pregnancies</th>\n",
       "      <th>Glucose</th>\n",
       "      <th>BloodPressure</th>\n",
       "      <th>SkinThickness</th>\n",
       "      <th>Insulin</th>\n",
       "      <th>BMI</th>\n",
       "      <th>DiabetesPedigreeFunction</th>\n",
       "      <th>Age</th>\n",
       "      <th>Outcome</th>\n",
       "    </tr>\n",
       "  </thead>\n",
       "  <tbody>\n",
       "    <tr>\n",
       "      <th>0</th>\n",
       "      <td>6</td>\n",
       "      <td>148</td>\n",
       "      <td>72</td>\n",
       "      <td>35</td>\n",
       "      <td>0</td>\n",
       "      <td>33.6</td>\n",
       "      <td>0.627</td>\n",
       "      <td>50</td>\n",
       "      <td>1</td>\n",
       "    </tr>\n",
       "    <tr>\n",
       "      <th>1</th>\n",
       "      <td>1</td>\n",
       "      <td>85</td>\n",
       "      <td>66</td>\n",
       "      <td>29</td>\n",
       "      <td>0</td>\n",
       "      <td>26.6</td>\n",
       "      <td>0.351</td>\n",
       "      <td>31</td>\n",
       "      <td>0</td>\n",
       "    </tr>\n",
       "    <tr>\n",
       "      <th>2</th>\n",
       "      <td>8</td>\n",
       "      <td>183</td>\n",
       "      <td>64</td>\n",
       "      <td>0</td>\n",
       "      <td>0</td>\n",
       "      <td>23.3</td>\n",
       "      <td>0.672</td>\n",
       "      <td>32</td>\n",
       "      <td>1</td>\n",
       "    </tr>\n",
       "    <tr>\n",
       "      <th>3</th>\n",
       "      <td>1</td>\n",
       "      <td>89</td>\n",
       "      <td>66</td>\n",
       "      <td>23</td>\n",
       "      <td>94</td>\n",
       "      <td>28.1</td>\n",
       "      <td>0.167</td>\n",
       "      <td>21</td>\n",
       "      <td>0</td>\n",
       "    </tr>\n",
       "    <tr>\n",
       "      <th>4</th>\n",
       "      <td>0</td>\n",
       "      <td>137</td>\n",
       "      <td>40</td>\n",
       "      <td>35</td>\n",
       "      <td>168</td>\n",
       "      <td>43.1</td>\n",
       "      <td>2.288</td>\n",
       "      <td>33</td>\n",
       "      <td>1</td>\n",
       "    </tr>\n",
       "  </tbody>\n",
       "</table>\n",
       "</div>"
      ],
      "text/plain": [
       "   Pregnancies  Glucose  BloodPressure  SkinThickness  Insulin   BMI  \\\n",
       "0            6      148             72             35        0  33.6   \n",
       "1            1       85             66             29        0  26.6   \n",
       "2            8      183             64              0        0  23.3   \n",
       "3            1       89             66             23       94  28.1   \n",
       "4            0      137             40             35      168  43.1   \n",
       "\n",
       "   DiabetesPedigreeFunction  Age  Outcome  \n",
       "0                     0.627   50        1  \n",
       "1                     0.351   31        0  \n",
       "2                     0.672   32        1  \n",
       "3                     0.167   21        0  \n",
       "4                     2.288   33        1  "
      ]
     },
     "execution_count": 13,
     "metadata": {},
     "output_type": "execute_result"
    }
   ],
   "source": [
    "#import dataset\n",
    "import pandas as pd\n",
    "df=pd.read_csv(\"diabetes.csv\")\n",
    "df.head()"
   ]
  },
  {
   "cell_type": "code",
   "execution_count": 14,
   "id": "f89bcf2e",
   "metadata": {},
   "outputs": [
    {
     "data": {
      "text/html": [
       "<div>\n",
       "<style scoped>\n",
       "    .dataframe tbody tr th:only-of-type {\n",
       "        vertical-align: middle;\n",
       "    }\n",
       "\n",
       "    .dataframe tbody tr th {\n",
       "        vertical-align: top;\n",
       "    }\n",
       "\n",
       "    .dataframe thead th {\n",
       "        text-align: right;\n",
       "    }\n",
       "</style>\n",
       "<table border=\"1\" class=\"dataframe\">\n",
       "  <thead>\n",
       "    <tr style=\"text-align: right;\">\n",
       "      <th></th>\n",
       "      <th>Pregnancies</th>\n",
       "      <th>Glucose</th>\n",
       "      <th>BloodPressure</th>\n",
       "      <th>SkinThickness</th>\n",
       "      <th>Insulin</th>\n",
       "      <th>BMI</th>\n",
       "      <th>DiabetesPedigreeFunction</th>\n",
       "      <th>Age</th>\n",
       "      <th>Outcome</th>\n",
       "    </tr>\n",
       "  </thead>\n",
       "  <tbody>\n",
       "    <tr>\n",
       "      <th>count</th>\n",
       "      <td>768.000000</td>\n",
       "      <td>768.000000</td>\n",
       "      <td>768.000000</td>\n",
       "      <td>768.000000</td>\n",
       "      <td>768.000000</td>\n",
       "      <td>768.000000</td>\n",
       "      <td>768.000000</td>\n",
       "      <td>768.000000</td>\n",
       "      <td>768.000000</td>\n",
       "    </tr>\n",
       "    <tr>\n",
       "      <th>mean</th>\n",
       "      <td>3.845052</td>\n",
       "      <td>120.894531</td>\n",
       "      <td>69.105469</td>\n",
       "      <td>20.536458</td>\n",
       "      <td>79.799479</td>\n",
       "      <td>31.992578</td>\n",
       "      <td>0.471876</td>\n",
       "      <td>33.240885</td>\n",
       "      <td>0.348958</td>\n",
       "    </tr>\n",
       "    <tr>\n",
       "      <th>std</th>\n",
       "      <td>3.369578</td>\n",
       "      <td>31.972618</td>\n",
       "      <td>19.355807</td>\n",
       "      <td>15.952218</td>\n",
       "      <td>115.244002</td>\n",
       "      <td>7.884160</td>\n",
       "      <td>0.331329</td>\n",
       "      <td>11.760232</td>\n",
       "      <td>0.476951</td>\n",
       "    </tr>\n",
       "    <tr>\n",
       "      <th>min</th>\n",
       "      <td>0.000000</td>\n",
       "      <td>0.000000</td>\n",
       "      <td>0.000000</td>\n",
       "      <td>0.000000</td>\n",
       "      <td>0.000000</td>\n",
       "      <td>0.000000</td>\n",
       "      <td>0.078000</td>\n",
       "      <td>21.000000</td>\n",
       "      <td>0.000000</td>\n",
       "    </tr>\n",
       "    <tr>\n",
       "      <th>25%</th>\n",
       "      <td>1.000000</td>\n",
       "      <td>99.000000</td>\n",
       "      <td>62.000000</td>\n",
       "      <td>0.000000</td>\n",
       "      <td>0.000000</td>\n",
       "      <td>27.300000</td>\n",
       "      <td>0.243750</td>\n",
       "      <td>24.000000</td>\n",
       "      <td>0.000000</td>\n",
       "    </tr>\n",
       "    <tr>\n",
       "      <th>50%</th>\n",
       "      <td>3.000000</td>\n",
       "      <td>117.000000</td>\n",
       "      <td>72.000000</td>\n",
       "      <td>23.000000</td>\n",
       "      <td>30.500000</td>\n",
       "      <td>32.000000</td>\n",
       "      <td>0.372500</td>\n",
       "      <td>29.000000</td>\n",
       "      <td>0.000000</td>\n",
       "    </tr>\n",
       "    <tr>\n",
       "      <th>75%</th>\n",
       "      <td>6.000000</td>\n",
       "      <td>140.250000</td>\n",
       "      <td>80.000000</td>\n",
       "      <td>32.000000</td>\n",
       "      <td>127.250000</td>\n",
       "      <td>36.600000</td>\n",
       "      <td>0.626250</td>\n",
       "      <td>41.000000</td>\n",
       "      <td>1.000000</td>\n",
       "    </tr>\n",
       "    <tr>\n",
       "      <th>max</th>\n",
       "      <td>17.000000</td>\n",
       "      <td>199.000000</td>\n",
       "      <td>122.000000</td>\n",
       "      <td>99.000000</td>\n",
       "      <td>846.000000</td>\n",
       "      <td>67.100000</td>\n",
       "      <td>2.420000</td>\n",
       "      <td>81.000000</td>\n",
       "      <td>1.000000</td>\n",
       "    </tr>\n",
       "  </tbody>\n",
       "</table>\n",
       "</div>"
      ],
      "text/plain": [
       "       Pregnancies     Glucose  BloodPressure  SkinThickness     Insulin  \\\n",
       "count   768.000000  768.000000     768.000000     768.000000  768.000000   \n",
       "mean      3.845052  120.894531      69.105469      20.536458   79.799479   \n",
       "std       3.369578   31.972618      19.355807      15.952218  115.244002   \n",
       "min       0.000000    0.000000       0.000000       0.000000    0.000000   \n",
       "25%       1.000000   99.000000      62.000000       0.000000    0.000000   \n",
       "50%       3.000000  117.000000      72.000000      23.000000   30.500000   \n",
       "75%       6.000000  140.250000      80.000000      32.000000  127.250000   \n",
       "max      17.000000  199.000000     122.000000      99.000000  846.000000   \n",
       "\n",
       "              BMI  DiabetesPedigreeFunction         Age     Outcome  \n",
       "count  768.000000                768.000000  768.000000  768.000000  \n",
       "mean    31.992578                  0.471876   33.240885    0.348958  \n",
       "std      7.884160                  0.331329   11.760232    0.476951  \n",
       "min      0.000000                  0.078000   21.000000    0.000000  \n",
       "25%     27.300000                  0.243750   24.000000    0.000000  \n",
       "50%     32.000000                  0.372500   29.000000    0.000000  \n",
       "75%     36.600000                  0.626250   41.000000    1.000000  \n",
       "max     67.100000                  2.420000   81.000000    1.000000  "
      ]
     },
     "execution_count": 14,
     "metadata": {},
     "output_type": "execute_result"
    }
   ],
   "source": [
    "df.describe()"
   ]
  },
  {
   "cell_type": "code",
   "execution_count": 17,
   "id": "d6d489de",
   "metadata": {},
   "outputs": [
    {
     "name": "stdout",
     "output_type": "stream",
     "text": [
      "<class 'pandas.core.frame.DataFrame'>\n",
      "RangeIndex: 768 entries, 0 to 767\n",
      "Data columns (total 9 columns):\n",
      " #   Column                    Non-Null Count  Dtype  \n",
      "---  ------                    --------------  -----  \n",
      " 0   Pregnancies               768 non-null    int64  \n",
      " 1   Glucose                   768 non-null    int64  \n",
      " 2   BloodPressure             768 non-null    int64  \n",
      " 3   SkinThickness             768 non-null    int64  \n",
      " 4   Insulin                   768 non-null    int64  \n",
      " 5   BMI                       768 non-null    float64\n",
      " 6   DiabetesPedigreeFunction  768 non-null    float64\n",
      " 7   Age                       768 non-null    int64  \n",
      " 8   Outcome                   768 non-null    int64  \n",
      "dtypes: float64(2), int64(7)\n",
      "memory usage: 54.1 KB\n"
     ]
    }
   ],
   "source": [
    "df.info()"
   ]
  },
  {
   "cell_type": "markdown",
   "id": "44f90be8",
   "metadata": {},
   "source": [
    "# Filtering the data"
   ]
  },
  {
   "cell_type": "code",
   "execution_count": 23,
   "id": "bbce84d6",
   "metadata": {},
   "outputs": [
    {
     "name": "stdout",
     "output_type": "stream",
     "text": [
      "Filtered data containing the persons whose age is greater than 30 \n",
      "\n",
      "     Pregnancies  Glucose  BloodPressure  SkinThickness  Insulin   BMI  \\\n",
      "0              6      148             72             35        0  33.6   \n",
      "1              1       85             66             29        0  26.6   \n",
      "2              8      183             64              0        0  23.3   \n",
      "4              0      137             40             35      168  43.1   \n",
      "8              2      197             70             45      543  30.5   \n",
      "..           ...      ...            ...            ...      ...   ...   \n",
      "759            6      190             92              0        0  35.5   \n",
      "761            9      170             74             31        0  44.0   \n",
      "762            9       89             62              0        0  22.5   \n",
      "763           10      101             76             48      180  32.9   \n",
      "766            1      126             60              0        0  30.1   \n",
      "\n",
      "     DiabetesPedigreeFunction  Age  Outcome  \n",
      "0                       0.627   50        1  \n",
      "1                       0.351   31        0  \n",
      "2                       0.672   32        1  \n",
      "4                       2.288   33        1  \n",
      "8                       0.158   53        1  \n",
      "..                        ...  ...      ...  \n",
      "759                     0.278   66        1  \n",
      "761                     0.403   43        1  \n",
      "762                     0.142   33        0  \n",
      "763                     0.171   63        0  \n",
      "766                     0.349   47        1  \n",
      "\n",
      "[351 rows x 9 columns]\n"
     ]
    }
   ],
   "source": [
    "# Filtering the data\n",
    "filtered_data=df[df[\"Age\"]>30]\n",
    "print(\"Filtered data containing the persons whose age is greater than 30 \\n\")\n",
    "print(filtered_data)"
   ]
  },
  {
   "cell_type": "code",
   "execution_count": 50,
   "id": "55a21ac7",
   "metadata": {},
   "outputs": [
    {
     "name": "stdout",
     "output_type": "stream",
     "text": [
      "Outcome\n",
      "0    500\n",
      "1    268\n",
      "dtype: int64\n"
     ]
    }
   ],
   "source": [
    "print(df.groupby('Outcome').size())"
   ]
  },
  {
   "cell_type": "code",
   "execution_count": 22,
   "id": "fd2dfed5",
   "metadata": {},
   "outputs": [
    {
     "name": "stdout",
     "output_type": "stream",
     "text": [
      "<pandas.core.groupby.generic.DataFrameGroupBy object at 0x0000029CC473A100>\n",
      "No of groups :  2\n"
     ]
    }
   ],
   "source": [
    "#Grouping the diabetic and non diabetic persons\n",
    "\n",
    "print(df.groupby(\"Outcome\"))\n",
    "\n",
    "print(\"No of groups : \",df.groupby(\"Outcome\").ngroups)"
   ]
  },
  {
   "cell_type": "code",
   "execution_count": 30,
   "id": "5589cdfe",
   "metadata": {},
   "outputs": [
    {
     "name": "stdout",
     "output_type": "stream",
     "text": [
      "No of daibetic patients : \n",
      " Pregnancies                 268\n",
      "Glucose                     268\n",
      "BloodPressure               268\n",
      "SkinThickness               268\n",
      "Insulin                     268\n",
      "BMI                         268\n",
      "DiabetesPedigreeFunction    268\n",
      "Age                         268\n",
      "Outcome                     268\n",
      "dtype: int64\n",
      "\n",
      "Non daibetic patients : \n",
      " Pregnancies                 500\n",
      "Glucose                     500\n",
      "BloodPressure               500\n",
      "SkinThickness               500\n",
      "Insulin                     500\n",
      "BMI                         500\n",
      "DiabetesPedigreeFunction    500\n",
      "Age                         500\n",
      "Outcome                     500\n",
      "dtype: int64\n"
     ]
    }
   ],
   "source": [
    "class_A = df.loc[(df[\"Outcome\"]==1)]\n",
    "print(\"No of daibetic patients : \\n\",class_A.count())\n",
    "\n",
    "class_B = df.loc[(df[\"Outcome\"]==0)]\n",
    "print(\"\\nNon daibetic patients : \\n\",class_B.count())"
   ]
  },
  {
   "cell_type": "markdown",
   "id": "a047ab30",
   "metadata": {},
   "source": [
    "# Summary Statistics"
   ]
  },
  {
   "cell_type": "code",
   "execution_count": 32,
   "id": "616c2e5c",
   "metadata": {},
   "outputs": [
    {
     "name": "stdout",
     "output_type": "stream",
     "text": [
      "     Pregnancies  Glucose  BloodPressure  SkinThickness  Insulin   BMI  \\\n",
      "Age                                                                      \n",
      "21           1.0     89.0           66.0           23.0     94.0  28.1   \n",
      "31           1.0     85.0           66.0           29.0      0.0  26.6   \n",
      "32           8.0    183.0           64.0            0.0      0.0  23.3   \n",
      "33           0.0    137.0           40.0           35.0    168.0  43.1   \n",
      "50           6.0    148.0           72.0           35.0      0.0  33.6   \n",
      "\n",
      "     DiabetesPedigreeFunction  Outcome  \n",
      "Age                                     \n",
      "21                      0.167      0.0  \n",
      "31                      0.351      0.0  \n",
      "32                      0.672      1.0  \n",
      "33                      2.288      1.0  \n",
      "50                      0.627      1.0  \n"
     ]
    }
   ],
   "source": [
    "print(df.head().groupby(\"Age\").mean())"
   ]
  },
  {
   "cell_type": "code",
   "execution_count": 33,
   "id": "530659ff",
   "metadata": {},
   "outputs": [
    {
     "name": "stdout",
     "output_type": "stream",
     "text": [
      "     Pregnancies  Glucose  BloodPressure  SkinThickness  Insulin   BMI  \\\n",
      "Age                                                                      \n",
      "21           1.0     89.0           66.0           23.0     94.0  28.1   \n",
      "31           1.0     85.0           66.0           29.0      0.0  26.6   \n",
      "32           8.0    183.0           64.0            0.0      0.0  23.3   \n",
      "33           0.0    137.0           40.0           35.0    168.0  43.1   \n",
      "50           6.0    148.0           72.0           35.0      0.0  33.6   \n",
      "\n",
      "     DiabetesPedigreeFunction  Outcome  \n",
      "Age                                     \n",
      "21                      0.167      0.0  \n",
      "31                      0.351      0.0  \n",
      "32                      0.672      1.0  \n",
      "33                      2.288      1.0  \n",
      "50                      0.627      1.0  \n"
     ]
    }
   ],
   "source": [
    "print(df.head().groupby(\"Age\").median())"
   ]
  },
  {
   "cell_type": "code",
   "execution_count": 35,
   "id": "766caa01",
   "metadata": {},
   "outputs": [
    {
     "name": "stdout",
     "output_type": "stream",
     "text": [
      "     Pregnancies  Glucose  BloodPressure  SkinThickness  Insulin   BMI  \\\n",
      "Age                                                                      \n",
      "21             1       89             66             23       94  28.1   \n",
      "31             1       85             66             29        0  26.6   \n",
      "32             8      183             64              0        0  23.3   \n",
      "33             0      137             40             35      168  43.1   \n",
      "50             6      148             72             35        0  33.6   \n",
      "\n",
      "     DiabetesPedigreeFunction  Outcome  \n",
      "Age                                     \n",
      "21                      0.167        0  \n",
      "31                      0.351        0  \n",
      "32                      0.672        1  \n",
      "33                      2.288        1  \n",
      "50                      0.627        1  \n"
     ]
    }
   ],
   "source": [
    "print(df.head().groupby(\"Age\").max())"
   ]
  },
  {
   "cell_type": "code",
   "execution_count": 36,
   "id": "7c24a772",
   "metadata": {},
   "outputs": [
    {
     "name": "stdout",
     "output_type": "stream",
     "text": [
      "     Pregnancies  Glucose  BloodPressure  SkinThickness  Insulin   BMI  \\\n",
      "Age                                                                      \n",
      "21             1       89             66             23       94  28.1   \n",
      "31             1       85             66             29        0  26.6   \n",
      "32             8      183             64              0        0  23.3   \n",
      "33             0      137             40             35      168  43.1   \n",
      "50             6      148             72             35        0  33.6   \n",
      "\n",
      "     DiabetesPedigreeFunction  Outcome  \n",
      "Age                                     \n",
      "21                      0.167        0  \n",
      "31                      0.351        0  \n",
      "32                      0.672        1  \n",
      "33                      2.288        1  \n",
      "50                      0.627        1  \n"
     ]
    }
   ],
   "source": [
    "print(df.head().groupby(\"Age\").min())"
   ]
  },
  {
   "cell_type": "code",
   "execution_count": 38,
   "id": "88a58af1",
   "metadata": {},
   "outputs": [
    {
     "data": {
      "text/plain": [
       "Pregnancies                 0\n",
       "Glucose                     0\n",
       "BloodPressure               0\n",
       "SkinThickness               0\n",
       "Insulin                     0\n",
       "BMI                         0\n",
       "DiabetesPedigreeFunction    0\n",
       "Age                         0\n",
       "Outcome                     0\n",
       "dtype: int64"
      ]
     },
     "execution_count": 38,
     "metadata": {},
     "output_type": "execute_result"
    }
   ],
   "source": [
    "df.isnull().sum()"
   ]
  },
  {
   "cell_type": "markdown",
   "id": "c326bd04",
   "metadata": {},
   "source": [
    "# Merging two datasets "
   ]
  },
  {
   "cell_type": "code",
   "execution_count": 42,
   "id": "58b1c9be",
   "metadata": {},
   "outputs": [
    {
     "name": "stdout",
     "output_type": "stream",
     "text": [
      "    Outlook Temperature Humidity    Wind\n",
      "0     Sunny         Hot     High    Weak\n",
      "1     Sunny         Hot     High  Strong\n",
      "2  Overcast         Hot     High    Weak\n",
      "3      Rain        Mild     High    Weak\n",
      "4      Rain        Cool   Normal    Weak\n",
      "\n",
      "\n",
      "  Day   Outlook Temperature Humidity    Wind PlayTennis\n",
      "0  D1     Sunny         Hot     High    Weak         No\n",
      "1  D2     Sunny         Hot     High  Strong         No\n",
      "2  D3  Overcast         Hot     High    Weak        Yes\n",
      "3  D4      Rain        Mild     High    Weak        Yes\n",
      "4  D5      Rain        Cool   Normal    Weak        Yes\n"
     ]
    }
   ],
   "source": [
    "df1=pd.read_csv(\"PlayTennis.csv\")\n",
    "df2=pd.read_csv(\"Weather.csv\")\n",
    "print(df1.head())\n",
    "print(\"\\n\")\n",
    "print(df2.head())"
   ]
  },
  {
   "cell_type": "code",
   "execution_count": 43,
   "id": "09cda645",
   "metadata": {},
   "outputs": [
    {
     "name": "stdout",
     "output_type": "stream",
     "text": [
      "     Outlook Temperature Humidity    Wind  Day PlayTennis\n",
      "0      Sunny         Hot     High    Weak   D1         No\n",
      "1      Sunny         Hot     High  Strong   D2         No\n",
      "2   Overcast         Hot     High    Weak   D3        Yes\n",
      "3       Rain        Mild     High    Weak   D4        Yes\n",
      "4       Rain        Cool   Normal    Weak   D5        Yes\n",
      "5       Rain        Cool   Normal  Strong   D6         No\n",
      "6   Overcast        Cool   Normal  Strong   D7        Yes\n",
      "7      Sunny        Mild     High    Weak   D8         No\n",
      "8      Sunny        Cool   Normal    Weak   D9        Yes\n",
      "9       Rain        Mild   Normal    Weak  D10        Yes\n",
      "10     Sunny        Mild   Normal  Strong  D11        Yes\n",
      "11  Overcast        Mild     High  Strong  D12        Yes\n",
      "12  Overcast         Hot   Normal    Weak  D13        Yes\n",
      "13      Rain        Mild     High  Strong  D14         No\n"
     ]
    }
   ],
   "source": [
    "final=pd.merge(df1,df2)\n",
    "print(final)"
   ]
  },
  {
   "cell_type": "markdown",
   "id": "fac4528f",
   "metadata": {},
   "source": [
    "# Data Visualization using Matplotlib"
   ]
  },
  {
   "cell_type": "code",
   "execution_count": 46,
   "id": "56969438",
   "metadata": {},
   "outputs": [],
   "source": [
    "import matplotlib.pyplot as plt\n",
    "import pandas as pd\n",
    "import numpy as np"
   ]
  },
  {
   "cell_type": "code",
   "execution_count": 47,
   "id": "10170d70",
   "metadata": {},
   "outputs": [],
   "source": [
    "df=pd.read_csv(\"diabetes.csv\")"
   ]
  },
  {
   "cell_type": "code",
   "execution_count": 68,
   "id": "48187bad",
   "metadata": {},
   "outputs": [
    {
     "data": {
      "image/png": "[encoded data removed]",
      "text/plain": [
       "<Figure size 432x288 with 1 Axes>"
      ]
     },
     "metadata": {
      "needs_background": "light"
     },
     "output_type": "display_data"
    }
   ],
   "source": [
    "x=df.BloodPressure\n",
    "y=df.Age\n",
    "plt.plot(x,y)\n",
    "plt.xlabel(\"Age\")\n",
    "plt.ylabel(\"BloodPressure\")\n",
    "plt.show()"
   ]
  },
  {
   "cell_type": "code",
   "execution_count": 67,
   "id": "e77252f6",
   "metadata": {},
   "outputs": [
    {
     "data": {
      "image/png": "[encoded data removed]",
      "text/plain": [
       "<Figure size 432x288 with 1 Axes>"
      ]
     },
     "metadata": {
      "needs_background": "light"
     },
     "output_type": "display_data"
    }
   ],
   "source": [
    "# Create a line plot\n",
    "plt.plot(df[\"DiabetesPedigreeFunction\"],df[\"Age\"])\n",
    "plt.show()"
   ]
  },
  {
   "cell_type": "code",
   "execution_count": 52,
   "id": "6d33dc67",
   "metadata": {},
   "outputs": [
    {
     "data": {
      "image/png": "[encoded data removed]",
      "text/plain": [
       "<Figure size 432x288 with 1 Axes>"
      ]
     },
     "metadata": {
      "needs_background": "light"
     },
     "output_type": "display_data"
    }
   ],
   "source": [
    "# Create a histogram\n",
    "plt.hist(df, bins=30)\n",
    "plt.title(\"Histogram\")\n",
    "plt.xlabel(\"Values\")\n",
    "plt.ylabel(\"Frequency\")\n",
    "plt.show()"
   ]
  },
  {
   "cell_type": "code",
   "execution_count": 58,
   "id": "96f3ddb2",
   "metadata": {},
   "outputs": [
    {
     "data": {
      "image/png": "[encoded data removed]",
      "text/plain": [
       "<Figure size 432x288 with 9 Axes>"
      ]
     },
     "metadata": {
      "needs_background": "light"
     },
     "output_type": "display_data"
    }
   ],
   "source": [
    "# create histogram for numeric data\n",
    "df.hist()\n",
    "  \n",
    "# show plot\n",
    "plt.show()"
   ]
  },
  {
   "cell_type": "code",
   "execution_count": 62,
   "id": "a808fabc",
   "metadata": {},
   "outputs": [
    {
     "data": {
      "text/plain": [
       "Text(0, 0.5, 'BMI')"
      ]
     },
     "execution_count": 62,
     "metadata": {},
     "output_type": "execute_result"
    },
    {
     "data": {
      "image/png": "[encoded data removed]",
      "text/plain": [
       "<Figure size 432x288 with 1 Axes>"
      ]
     },
     "metadata": {
      "needs_background": "light"
     },
     "output_type": "display_data"
    }
   ],
   "source": [
    "plt.scatter(df['DiabetesPedigreeFunction'], df['BMI'])\n",
    "plt.title(\"Scatter Plot\")\n",
    "plt.xlabel(\"DiabetesPedigreeFunction\")\n",
    "plt.ylabel('BMI')"
   ]
  },
  {
   "cell_type": "code",
   "execution_count": 70,
   "id": "16aa0abe",
   "metadata": {},
   "outputs": [
    {
     "data": {
      "text/plain": [
       "array([[<AxesSubplot:title={'center':'BloodPressure'}>,\n",
       "        <AxesSubplot:title={'center':'SkinThickness'}>]], dtype=object)"
      ]
     },
     "execution_count": 70,
     "metadata": {},
     "output_type": "execute_result"
    },
    {
     "data": {
      "image/png": "[encoded data removed]",
      "text/plain": [
       "<Figure size 720x288 with 2 Axes>"
      ]
     },
     "metadata": {
      "needs_background": "light"
     },
     "output_type": "display_data"
    }
   ],
   "source": [
    "# illustrate histogram\n",
    "features = ['BloodPressure', 'SkinThickness']\n",
    "df[features].hist(figsize=(10, 4),grid=False,ec=\"black\")"
   ]
  },
  {
   "cell_type": "code",
   "execution_count": 71,
   "id": "aa586198",
   "metadata": {},
   "outputs": [
    {
     "data": {
      "text/plain": [
       "<AxesSubplot:>"
      ]
     },
     "execution_count": 71,
     "metadata": {},
     "output_type": "execute_result"
    },
    {
     "data": {
      "image/png": "[encoded data removed]",
      "text/plain": [
       "<Figure size 432x288 with 1 Axes>"
      ]
     },
     "metadata": {
      "needs_background": "light"
     },
     "output_type": "display_data"
    }
   ],
   "source": [
    "#Box plot\n",
    "df.plot(x=\"Glucose\",y=\"Age\",kind=\"box\")"
   ]
  },
  {
   "cell_type": "code",
   "execution_count": 72,
   "id": "6aff7950",
   "metadata": {},
   "outputs": [
    {
     "data": {
      "text/plain": [
       "<AxesSubplot:ylabel='Frequency'>"
      ]
     },
     "execution_count": 72,
     "metadata": {},
     "output_type": "execute_result"
    },
    {
     "data": {
      "image/png": "[encoded data removed]",
      "text/plain": [
       "<Figure size 432x288 with 1 Axes>"
      ]
     },
     "metadata": {
      "needs_background": "light"
     },
     "output_type": "display_data"
    }
   ],
   "source": [
    "df.plot(x=\"Glucose\",y=\"Age\",kind=\"hist\")"
   ]
  },
  {
   "cell_type": "code",
   "execution_count": 73,
   "id": "43ceae03",
   "metadata": {},
   "outputs": [
    {
     "data": {
      "text/plain": [
       "<AxesSubplot:>"
      ]
     },
     "execution_count": 73,
     "metadata": {},
     "output_type": "execute_result"
    },
    {
     "data": {
      "image/png": "[encoded data removed]",
      "text/plain": [
       "<Figure size 432x288 with 1 Axes>"
      ]
     },
     "metadata": {
      "needs_background": "light"
     },
     "output_type": "display_data"
    }
   ],
   "source": [
    "df.boxplot(column=['BMI','Glucose'],grid=\"off\")"
   ]
  },
  {
   "cell_type": "code",
   "execution_count": 74,
   "id": "d7320db3",
   "metadata": {},
   "outputs": [
    {
     "data": {
      "image/png": "[encoded data removed]",
      "text/plain": [
       "<Figure size 432x288 with 1 Axes>"
      ]
     },
     "metadata": {
      "needs_background": "light"
     },
     "output_type": "display_data"
    }
   ],
   "source": [
    "plt.bar(df[\"BloodPressure\"],df[\"Age\"])\n",
    "plt.xlabel(\"BloodPressure\")\n",
    "plt.ylabel(\"Age\")\n",
    "plt.show()"
   ]
  },
  {
   "cell_type": "code",
   "execution_count": null,
   "id": "6c7b89b6",
   "metadata": {},
   "outputs": [],
   "source": []
  }
 ],
 "metadata": {
  "kernelspec": {
   "display_name": "Python 3 (ipykernel)",
   "language": "python",
   "name": "python3"
  },
  "language_info": {
   "codemirror_mode": {
    "name": "ipython",
    "version": 3
   },
   "file_extension": ".py",
   "mimetype": "text/x-python",
   "name": "python",
   "nbconvert_exporter": "python",
   "pygments_lexer": "ipython3",
   "version": "3.9.12"
  }
 },
 "nbformat": 4,
 "nbformat_minor": 5
}
